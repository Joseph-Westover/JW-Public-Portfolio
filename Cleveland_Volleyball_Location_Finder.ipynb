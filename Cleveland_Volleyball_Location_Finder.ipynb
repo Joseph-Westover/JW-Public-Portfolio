{
 "cells": [
  {
   "cell_type": "code",
   "execution_count": 135,
   "id": "66bd67d4",
   "metadata": {},
   "outputs": [
    {
     "name": "stdout",
     "output_type": "stream",
     "text": [
      "Requirement already satisfied: folium in c:\\users\\josep\\miniconda3\\lib\\site-packages (0.14.0)\n",
      "Requirement already satisfied: pandas in c:\\users\\josep\\miniconda3\\lib\\site-packages (1.5.3)\n",
      "Requirement already satisfied: jinja2>=2.9 in c:\\users\\josep\\miniconda3\\lib\\site-packages (from folium) (3.1.2)\n",
      "Requirement already satisfied: requests in c:\\users\\josep\\miniconda3\\lib\\site-packages (from folium) (2.28.1)\n",
      "Requirement already satisfied: numpy in c:\\users\\josep\\miniconda3\\lib\\site-packages (from folium) (1.24.3)\n",
      "Requirement already satisfied: branca>=0.6.0 in c:\\users\\josep\\miniconda3\\lib\\site-packages (from folium) (0.6.0)\n",
      "Requirement already satisfied: python-dateutil>=2.8.1 in c:\\users\\josep\\miniconda3\\lib\\site-packages (from pandas) (2.8.2)\n",
      "Requirement already satisfied: pytz>=2020.1 in c:\\users\\josep\\miniconda3\\lib\\site-packages (from pandas) (2022.7)\n",
      "Requirement already satisfied: MarkupSafe>=2.0 in c:\\users\\josep\\miniconda3\\lib\\site-packages (from jinja2>=2.9->folium) (2.1.1)\n",
      "Requirement already satisfied: six>=1.5 in c:\\users\\josep\\miniconda3\\lib\\site-packages (from python-dateutil>=2.8.1->pandas) (1.16.0)\n",
      "Requirement already satisfied: idna<4,>=2.5 in c:\\users\\josep\\miniconda3\\lib\\site-packages (from requests->folium) (3.4)\n",
      "Requirement already satisfied: urllib3<1.27,>=1.21.1 in c:\\users\\josep\\miniconda3\\lib\\site-packages (from requests->folium) (1.26.15)\n",
      "Requirement already satisfied: certifi>=2017.4.17 in c:\\users\\josep\\miniconda3\\lib\\site-packages (from requests->folium) (2022.12.7)\n",
      "Requirement already satisfied: charset-normalizer<3,>=2 in c:\\users\\josep\\miniconda3\\lib\\site-packages (from requests->folium) (2.0.4)\n"
     ]
    }
   ],
   "source": [
    "# Install necessary packages\n",
    "!pip install folium pandas"
   ]
  },
  {
   "cell_type": "code",
   "execution_count": 136,
   "id": "5a8153e0",
   "metadata": {},
   "outputs": [],
   "source": [
    "# Import packages\n",
    "import folium\n",
    "import pandas as pd"
   ]
  },
  {
   "cell_type": "code",
   "execution_count": 137,
   "id": "3ed1acc5",
   "metadata": {},
   "outputs": [],
   "source": [
    "# Additional folium plugins\n",
    "# Import folium MarkerCluster plugin\n",
    "from folium.plugins import MarkerCluster\n",
    "# Import folium MousePosition plugin\n",
    "from folium.plugins import MousePosition\n",
    "# Import folium DivIcon plugin\n",
    "from folium.features import DivIcon"
   ]
  },
  {
   "cell_type": "code",
   "execution_count": 138,
   "id": "7bf9be3d",
   "metadata": {},
   "outputs": [],
   "source": [
    "# Build dictionary to fill the dataframe\n",
    "\n",
    "dictionary_1 = {'Name': ['Whiskey Island', 'Cleveland Pier', 'North Royalton Memorial Park', 'Cahoon Memorial Park East', 'Lakewood Park'],\n",
    "                'Location': [ [41.499815281213294, -81.71402335033004], [41.51078251618141, -81.6965088525839], [41.310403887203094, -81.72745819483838], [41.48803473001595, -81.9239611312965], [41.496793619480506, -81.79561750008173] ],\n",
    "                'Address': ['2800 Whiskey Island Dr, Cleveland, OH 44102', 'E 9th Street Pier, Cleveland, OH 44114', '14600 State Rd, North Royalton, OH 44133', '300 Bryson Ln, Bay Village, OH 44140', '1002 Parkside Dr, Lakewood, OH 44107'],\n",
    "                'Sand_Or_Grass': ['Sand', 'Sand', 'Sand', 'Sand', 'Sand'],\n",
    "                'By_Water': ['Y', 'Y', 'N', 'N', 'Y']\n",
    "               }\n",
    "\n",
    "# Convert dictionary to dataframe using Pandas\n",
    "\n",
    "df = pd.DataFrame(dictionary_1)"
   ]
  },
  {
   "cell_type": "code",
   "execution_count": 141,
   "id": "fc8b0de3",
   "metadata": {},
   "outputs": [
    {
     "name": "stdout",
     "output_type": "stream",
     "text": [
      "Input your location's latitude 41.48366744091054\n",
      "Input your location's longitude -81.76792996833044\n"
     ]
    }
   ],
   "source": [
    "# Take user's location in latitude and longitude\n",
    "\n",
    "user_location = []\n",
    "\n",
    "user_latitude = float(input(\"Input your location\\'s latitude \"))\n",
    "user_longitude = float(input(\"Input your location\\'s longitude \"))\n",
    "\n",
    "user_location = [user_latitude, user_longitude]"
   ]
  },
  {
   "cell_type": "code",
   "execution_count": 142,
   "id": "81192039",
   "metadata": {},
   "outputs": [
    {
     "data": {
      "text/plain": [
       "list"
      ]
     },
     "execution_count": 142,
     "metadata": {},
     "output_type": "execute_result"
    }
   ],
   "source": [
    "# Validate location is saved as a list\n",
    "type(user_location)"
   ]
  },
  {
   "cell_type": "code",
   "execution_count": 143,
   "id": "fa322f53",
   "metadata": {
    "scrolled": true
   },
   "outputs": [
    {
     "data": {
      "text/plain": [
       "<folium.map.Marker at 0x1e82a1b4a60>"
      ]
     },
     "execution_count": 143,
     "metadata": {},
     "output_type": "execute_result"
    }
   ],
   "source": [
    "# Plot user's location as starting point on the map\n",
    "site_map = folium.Map(location=user_location, zoom_start = 15)\n",
    "\n",
    "# Create marker for user's location\n",
    "folium.Marker(\n",
    "    user_location, \n",
    "    popup=\"You are here\", \n",
    "    icon=folium.Icon(color=\"lightred\", icon=\"user\"),\n",
    "    ).add_to(site_map)"
   ]
  },
  {
   "cell_type": "code",
   "execution_count": 144,
   "id": "c5f4f2f5",
   "metadata": {},
   "outputs": [],
   "source": [
    "# Create empty column to calculate the distance of the user from each court\n",
    "df['Distance'] = None"
   ]
  },
  {
   "cell_type": "code",
   "execution_count": 145,
   "id": "29502bed",
   "metadata": {},
   "outputs": [
    {
     "name": "stdout",
     "output_type": "stream",
     "text": [
      "Requirement already satisfied: geopy in c:\\users\\josep\\miniconda3\\lib\\site-packages (2.3.0)\n",
      "Requirement already satisfied: geographiclib<3,>=1.52 in c:\\users\\josep\\miniconda3\\lib\\site-packages (from geopy) (2.0)\n"
     ]
    }
   ],
   "source": [
    "# Install geopy to calculate distance to courts\n",
    "!pip install geopy\n",
    "import geopy.distance"
   ]
  },
  {
   "cell_type": "code",
   "execution_count": 146,
   "id": "3c4e5c5d",
   "metadata": {},
   "outputs": [],
   "source": [
    "# Calculates distance to 1 court and returns it\n",
    "from math import radians, cos, sin, asin, sqrt\n",
    "\n",
    "# distance definition is from: https://www.section.io/engineering-education/using-geopy-to-calculate-the-distance-between-two-points/#:~:text=February%2025%2C%202022&text=Geopy%20is%20a%20Python%20library,well%20as%20other%20data%20sources.\n",
    "def distance_d(LaA, LoA, LaB, LoB):\n",
    "# The function \"radians\" is found in the math module, It's also used to convert radians to degrees.  \n",
    "    LoA = radians(LoA)  \n",
    "    LoB = radians(LoB)  \n",
    "    LaA= radians(LaA)  \n",
    "    LaB = radians(LaB) \n",
    "\n",
    "    # The \"Haversine formula\" is used. This method was chosen for its high accuracy\n",
    "    D_Lo = LoB - LoA \n",
    "    D_La = LaB - LaA \n",
    "    P = sin(D_La / 2)**2 + cos(LaA) * cos(LaB) * sin(D_Lo / 2)**2  \n",
    "   \n",
    "    Q = 2 * asin(sqrt(P))\n",
    "    \n",
    "    # The earth's radius in kilometers.\n",
    "    R_km = 6371  \n",
    "    \n",
    "    # Then we'll compute the outcome in km.\n",
    "    distance_found = (Q * R_km)\n",
    "    # Convert to miles\n",
    "    distance_found_miles = distance_found * 0.621371\n",
    "    # Formats distance to 2 decimal places\n",
    "    formatted_distance_miles = round(distance_found_miles, 2)\n",
    "    return formatted_distance_miles"
   ]
  },
  {
   "cell_type": "code",
   "execution_count": 147,
   "id": "abf1774d",
   "metadata": {},
   "outputs": [],
   "source": [
    "# Use loop to calculate the distance to each court\n",
    "for i in range(0,df.shape[0]):\n",
    "    df.iloc[i,5] = distance_d(user_location[0], user_location[1], df.iloc[i,1][0], df.iloc[i,1][1])"
   ]
  },
  {
   "cell_type": "code",
   "execution_count": 148,
   "id": "42de0ba9",
   "metadata": {
    "scrolled": false
   },
   "outputs": [],
   "source": [
    "# Plots all of the volleyball courts\n",
    "for i in range(0,df.shape[0]):\n",
    "    folium.Marker(\n",
    "    df.iloc[i,1],\n",
    "    popup = f\"<div style='font-size: 12px; color: lightblue;'><b>{df.iloc[i, 0]}</b><br>{df.iloc[i,5]:.2f} mi</div>\",\n",
    "    icon=folium.Icon(color=\"lightblue\", icon=\"info-circle\"),\n",
    "    ).add_to(site_map)\n",
    "    \n",
    "# Plots distance lines to all courts\n",
    "for i in range(0,df.shape[0]):\n",
    "    folium.PolyLine(\n",
    "    locations = ([user_location[0],user_location[1]], [df.iloc[i,1][0], df.iloc[i,1][1]]), weight=2).add_to(site_map)"
   ]
  },
  {
   "cell_type": "code",
   "execution_count": 149,
   "id": "d0665f41",
   "metadata": {},
   "outputs": [
    {
     "data": {
      "text/html": [
       "<div style=\"width:100%;\"><div style=\"position:relative;width:100%;height:0;padding-bottom:60%;\"><span style=\"color:#565656\">Make this Notebook Trusted to load map: File -> Trust Notebook</span><iframe srcdoc=\"&lt;!DOCTYPE html&gt;\n",
       "&lt;html&gt;\n",
       "&lt;head&gt;\n",
       "    \n",
       "    &lt;meta http-equiv=&quot;content-type&quot; content=&quot;text/html; charset=UTF-8&quot; /&gt;\n",
       "    \n",
       "        &lt;script&gt;\n",
       "            L_NO_TOUCH = false;\n",
       "            L_DISABLE_3D = false;\n",
       "        &lt;/script&gt;\n",
       "    \n",
       "    &lt;style&gt;html, body {width: 100%;height: 100%;margin: 0;padding: 0;}&lt;/style&gt;\n",
       "    &lt;style&gt;#map {position:absolute;top:0;bottom:0;right:0;left:0;}&lt;/style&gt;\n",
       "    &lt;script src=&quot;https://cdn.jsdelivr.net/npm/leaflet@1.9.3/dist/leaflet.js&quot;&gt;&lt;/script&gt;\n",
       "    &lt;script src=&quot;https://code.jquery.com/jquery-1.12.4.min.js&quot;&gt;&lt;/script&gt;\n",
       "    &lt;script src=&quot;https://cdn.jsdelivr.net/npm/bootstrap@5.2.2/dist/js/bootstrap.bundle.min.js&quot;&gt;&lt;/script&gt;\n",
       "    &lt;script src=&quot;https://cdnjs.cloudflare.com/ajax/libs/Leaflet.awesome-markers/2.0.2/leaflet.awesome-markers.js&quot;&gt;&lt;/script&gt;\n",
       "    &lt;link rel=&quot;stylesheet&quot; href=&quot;https://cdn.jsdelivr.net/npm/leaflet@1.9.3/dist/leaflet.css&quot;/&gt;\n",
       "    &lt;link rel=&quot;stylesheet&quot; href=&quot;https://cdn.jsdelivr.net/npm/bootstrap@5.2.2/dist/css/bootstrap.min.css&quot;/&gt;\n",
       "    &lt;link rel=&quot;stylesheet&quot; href=&quot;https://netdna.bootstrapcdn.com/bootstrap/3.0.0/css/bootstrap.min.css&quot;/&gt;\n",
       "    &lt;link rel=&quot;stylesheet&quot; href=&quot;https://cdn.jsdelivr.net/npm/@fortawesome/fontawesome-free@6.2.0/css/all.min.css&quot;/&gt;\n",
       "    &lt;link rel=&quot;stylesheet&quot; href=&quot;https://cdnjs.cloudflare.com/ajax/libs/Leaflet.awesome-markers/2.0.2/leaflet.awesome-markers.css&quot;/&gt;\n",
       "    &lt;link rel=&quot;stylesheet&quot; href=&quot;https://cdn.jsdelivr.net/gh/python-visualization/folium/folium/templates/leaflet.awesome.rotate.min.css&quot;/&gt;\n",
       "    \n",
       "            &lt;meta name=&quot;viewport&quot; content=&quot;width=device-width,\n",
       "                initial-scale=1.0, maximum-scale=1.0, user-scalable=no&quot; /&gt;\n",
       "            &lt;style&gt;\n",
       "                #map_698b8ba9bdc96677594afb5706866401 {\n",
       "                    position: relative;\n",
       "                    width: 100.0%;\n",
       "                    height: 100.0%;\n",
       "                    left: 0.0%;\n",
       "                    top: 0.0%;\n",
       "                }\n",
       "                .leaflet-container { font-size: 1rem; }\n",
       "            &lt;/style&gt;\n",
       "        \n",
       "&lt;/head&gt;\n",
       "&lt;body&gt;\n",
       "    \n",
       "    \n",
       "            &lt;div class=&quot;folium-map&quot; id=&quot;map_698b8ba9bdc96677594afb5706866401&quot; &gt;&lt;/div&gt;\n",
       "        \n",
       "&lt;/body&gt;\n",
       "&lt;script&gt;\n",
       "    \n",
       "    \n",
       "            var map_698b8ba9bdc96677594afb5706866401 = L.map(\n",
       "                &quot;map_698b8ba9bdc96677594afb5706866401&quot;,\n",
       "                {\n",
       "                    center: [41.48366744091054, -81.76792996833044],\n",
       "                    crs: L.CRS.EPSG3857,\n",
       "                    zoom: 15,\n",
       "                    zoomControl: true,\n",
       "                    preferCanvas: false,\n",
       "                }\n",
       "            );\n",
       "\n",
       "            \n",
       "\n",
       "        \n",
       "    \n",
       "            var tile_layer_9c5f7865bf08ae37ebea31c8fa5c7444 = L.tileLayer(\n",
       "                &quot;https://{s}.tile.openstreetmap.org/{z}/{x}/{y}.png&quot;,\n",
       "                {&quot;attribution&quot;: &quot;Data by \\u0026copy; \\u003ca target=\\&quot;_blank\\&quot; href=\\&quot;http://openstreetmap.org\\&quot;\\u003eOpenStreetMap\\u003c/a\\u003e, under \\u003ca target=\\&quot;_blank\\&quot; href=\\&quot;http://www.openstreetmap.org/copyright\\&quot;\\u003eODbL\\u003c/a\\u003e.&quot;, &quot;detectRetina&quot;: false, &quot;maxNativeZoom&quot;: 18, &quot;maxZoom&quot;: 18, &quot;minZoom&quot;: 0, &quot;noWrap&quot;: false, &quot;opacity&quot;: 1, &quot;subdomains&quot;: &quot;abc&quot;, &quot;tms&quot;: false}\n",
       "            ).addTo(map_698b8ba9bdc96677594afb5706866401);\n",
       "        \n",
       "    \n",
       "            var marker_1e1590698c983f1fb2ed9d77bff010a5 = L.marker(\n",
       "                [41.48366744091054, -81.76792996833044],\n",
       "                {}\n",
       "            ).addTo(map_698b8ba9bdc96677594afb5706866401);\n",
       "        \n",
       "    \n",
       "            var icon_8472bae82e3b664aa0b99ed1aa9d43db = L.AwesomeMarkers.icon(\n",
       "                {&quot;extraClasses&quot;: &quot;fa-rotate-0&quot;, &quot;icon&quot;: &quot;user&quot;, &quot;iconColor&quot;: &quot;white&quot;, &quot;markerColor&quot;: &quot;lightred&quot;, &quot;prefix&quot;: &quot;glyphicon&quot;}\n",
       "            );\n",
       "            marker_1e1590698c983f1fb2ed9d77bff010a5.setIcon(icon_8472bae82e3b664aa0b99ed1aa9d43db);\n",
       "        \n",
       "    \n",
       "        var popup_8b892e5d006754a8d0f882d41cc99100 = L.popup({&quot;maxWidth&quot;: &quot;100%&quot;});\n",
       "\n",
       "        \n",
       "            \n",
       "                var html_cdc2c05c23fa91370998ea4e57ff6caa = $(`&lt;div id=&quot;html_cdc2c05c23fa91370998ea4e57ff6caa&quot; style=&quot;width: 100.0%; height: 100.0%;&quot;&gt;You are here&lt;/div&gt;`)[0];\n",
       "                popup_8b892e5d006754a8d0f882d41cc99100.setContent(html_cdc2c05c23fa91370998ea4e57ff6caa);\n",
       "            \n",
       "        \n",
       "\n",
       "        marker_1e1590698c983f1fb2ed9d77bff010a5.bindPopup(popup_8b892e5d006754a8d0f882d41cc99100)\n",
       "        ;\n",
       "\n",
       "        \n",
       "    \n",
       "    \n",
       "            var marker_72e51171b04f68328bc1aea69c19b7e6 = L.marker(\n",
       "                [41.499815281213294, -81.71402335033004],\n",
       "                {}\n",
       "            ).addTo(map_698b8ba9bdc96677594afb5706866401);\n",
       "        \n",
       "    \n",
       "            var icon_38e6044486e682c781b7165b59db190b = L.AwesomeMarkers.icon(\n",
       "                {&quot;extraClasses&quot;: &quot;fa-rotate-0&quot;, &quot;icon&quot;: &quot;info-circle&quot;, &quot;iconColor&quot;: &quot;white&quot;, &quot;markerColor&quot;: &quot;lightblue&quot;, &quot;prefix&quot;: &quot;glyphicon&quot;}\n",
       "            );\n",
       "            marker_72e51171b04f68328bc1aea69c19b7e6.setIcon(icon_38e6044486e682c781b7165b59db190b);\n",
       "        \n",
       "    \n",
       "        var popup_270cb2b0904adc03dd4a48ca1d479ec9 = L.popup({&quot;maxWidth&quot;: &quot;100%&quot;});\n",
       "\n",
       "        \n",
       "            \n",
       "                var html_0a3aaeec3738f7b297de4c3c543ca812 = $(`&lt;div id=&quot;html_0a3aaeec3738f7b297de4c3c543ca812&quot; style=&quot;width: 100.0%; height: 100.0%;&quot;&gt;&lt;div style=&#x27;font-size: 12px; color: lightblue;&#x27;&gt;&lt;b&gt;Whiskey Island&lt;/b&gt;&lt;br&gt;3.00 mi&lt;/div&gt;&lt;/div&gt;`)[0];\n",
       "                popup_270cb2b0904adc03dd4a48ca1d479ec9.setContent(html_0a3aaeec3738f7b297de4c3c543ca812);\n",
       "            \n",
       "        \n",
       "\n",
       "        marker_72e51171b04f68328bc1aea69c19b7e6.bindPopup(popup_270cb2b0904adc03dd4a48ca1d479ec9)\n",
       "        ;\n",
       "\n",
       "        \n",
       "    \n",
       "    \n",
       "            var marker_9024671bbec3f797cc8230125c69fd9a = L.marker(\n",
       "                [41.51078251618141, -81.6965088525839],\n",
       "                {}\n",
       "            ).addTo(map_698b8ba9bdc96677594afb5706866401);\n",
       "        \n",
       "    \n",
       "            var icon_9969670ddc0dbeb343235b23611b15e9 = L.AwesomeMarkers.icon(\n",
       "                {&quot;extraClasses&quot;: &quot;fa-rotate-0&quot;, &quot;icon&quot;: &quot;info-circle&quot;, &quot;iconColor&quot;: &quot;white&quot;, &quot;markerColor&quot;: &quot;lightblue&quot;, &quot;prefix&quot;: &quot;glyphicon&quot;}\n",
       "            );\n",
       "            marker_9024671bbec3f797cc8230125c69fd9a.setIcon(icon_9969670ddc0dbeb343235b23611b15e9);\n",
       "        \n",
       "    \n",
       "        var popup_c192ad485c09bd688fe04baa4edc5d26 = L.popup({&quot;maxWidth&quot;: &quot;100%&quot;});\n",
       "\n",
       "        \n",
       "            \n",
       "                var html_3b5ddd5001974a5287f6380352ad79ee = $(`&lt;div id=&quot;html_3b5ddd5001974a5287f6380352ad79ee&quot; style=&quot;width: 100.0%; height: 100.0%;&quot;&gt;&lt;div style=&#x27;font-size: 12px; color: lightblue;&#x27;&gt;&lt;b&gt;Cleveland Pier&lt;/b&gt;&lt;br&gt;4.14 mi&lt;/div&gt;&lt;/div&gt;`)[0];\n",
       "                popup_c192ad485c09bd688fe04baa4edc5d26.setContent(html_3b5ddd5001974a5287f6380352ad79ee);\n",
       "            \n",
       "        \n",
       "\n",
       "        marker_9024671bbec3f797cc8230125c69fd9a.bindPopup(popup_c192ad485c09bd688fe04baa4edc5d26)\n",
       "        ;\n",
       "\n",
       "        \n",
       "    \n",
       "    \n",
       "            var marker_133fa56a25530110f4ac5bddcfcc6f86 = L.marker(\n",
       "                [41.310403887203094, -81.72745819483838],\n",
       "                {}\n",
       "            ).addTo(map_698b8ba9bdc96677594afb5706866401);\n",
       "        \n",
       "    \n",
       "            var icon_effcf03c743c6b94b474eff657de22cb = L.AwesomeMarkers.icon(\n",
       "                {&quot;extraClasses&quot;: &quot;fa-rotate-0&quot;, &quot;icon&quot;: &quot;info-circle&quot;, &quot;iconColor&quot;: &quot;white&quot;, &quot;markerColor&quot;: &quot;lightblue&quot;, &quot;prefix&quot;: &quot;glyphicon&quot;}\n",
       "            );\n",
       "            marker_133fa56a25530110f4ac5bddcfcc6f86.setIcon(icon_effcf03c743c6b94b474eff657de22cb);\n",
       "        \n",
       "    \n",
       "        var popup_812ae2b4a12c8afafd4ba9713a668d3b = L.popup({&quot;maxWidth&quot;: &quot;100%&quot;});\n",
       "\n",
       "        \n",
       "            \n",
       "                var html_e9c6c547543af2f114650881e1fd31db = $(`&lt;div id=&quot;html_e9c6c547543af2f114650881e1fd31db&quot; style=&quot;width: 100.0%; height: 100.0%;&quot;&gt;&lt;div style=&#x27;font-size: 12px; color: lightblue;&#x27;&gt;&lt;b&gt;North Royalton Memorial Park&lt;/b&gt;&lt;br&gt;12.15 mi&lt;/div&gt;&lt;/div&gt;`)[0];\n",
       "                popup_812ae2b4a12c8afafd4ba9713a668d3b.setContent(html_e9c6c547543af2f114650881e1fd31db);\n",
       "            \n",
       "        \n",
       "\n",
       "        marker_133fa56a25530110f4ac5bddcfcc6f86.bindPopup(popup_812ae2b4a12c8afafd4ba9713a668d3b)\n",
       "        ;\n",
       "\n",
       "        \n",
       "    \n",
       "    \n",
       "            var marker_ae7f64682cdd44ae29eb914910280a01 = L.marker(\n",
       "                [41.48803473001595, -81.9239611312965],\n",
       "                {}\n",
       "            ).addTo(map_698b8ba9bdc96677594afb5706866401);\n",
       "        \n",
       "    \n",
       "            var icon_4deaedfb95e298eb10c9e71155def2ee = L.AwesomeMarkers.icon(\n",
       "                {&quot;extraClasses&quot;: &quot;fa-rotate-0&quot;, &quot;icon&quot;: &quot;info-circle&quot;, &quot;iconColor&quot;: &quot;white&quot;, &quot;markerColor&quot;: &quot;lightblue&quot;, &quot;prefix&quot;: &quot;glyphicon&quot;}\n",
       "            );\n",
       "            marker_ae7f64682cdd44ae29eb914910280a01.setIcon(icon_4deaedfb95e298eb10c9e71155def2ee);\n",
       "        \n",
       "    \n",
       "        var popup_30ec5d42955f1570a58afe78e3c1b76e = L.popup({&quot;maxWidth&quot;: &quot;100%&quot;});\n",
       "\n",
       "        \n",
       "            \n",
       "                var html_b18f2d8db7716afb475f09e8abf2d2a8 = $(`&lt;div id=&quot;html_b18f2d8db7716afb475f09e8abf2d2a8&quot; style=&quot;width: 100.0%; height: 100.0%;&quot;&gt;&lt;div style=&#x27;font-size: 12px; color: lightblue;&#x27;&gt;&lt;b&gt;Cahoon Memorial Park East&lt;/b&gt;&lt;br&gt;8.08 mi&lt;/div&gt;&lt;/div&gt;`)[0];\n",
       "                popup_30ec5d42955f1570a58afe78e3c1b76e.setContent(html_b18f2d8db7716afb475f09e8abf2d2a8);\n",
       "            \n",
       "        \n",
       "\n",
       "        marker_ae7f64682cdd44ae29eb914910280a01.bindPopup(popup_30ec5d42955f1570a58afe78e3c1b76e)\n",
       "        ;\n",
       "\n",
       "        \n",
       "    \n",
       "    \n",
       "            var marker_d87b376a405dc16977c64d5304fcb050 = L.marker(\n",
       "                [41.496793619480506, -81.79561750008173],\n",
       "                {}\n",
       "            ).addTo(map_698b8ba9bdc96677594afb5706866401);\n",
       "        \n",
       "    \n",
       "            var icon_10eff5aa70fee73d3876b6fe605d5bc9 = L.AwesomeMarkers.icon(\n",
       "                {&quot;extraClasses&quot;: &quot;fa-rotate-0&quot;, &quot;icon&quot;: &quot;info-circle&quot;, &quot;iconColor&quot;: &quot;white&quot;, &quot;markerColor&quot;: &quot;lightblue&quot;, &quot;prefix&quot;: &quot;glyphicon&quot;}\n",
       "            );\n",
       "            marker_d87b376a405dc16977c64d5304fcb050.setIcon(icon_10eff5aa70fee73d3876b6fe605d5bc9);\n",
       "        \n",
       "    \n",
       "        var popup_c3552d9327c7660b727d8244e626d96c = L.popup({&quot;maxWidth&quot;: &quot;100%&quot;});\n",
       "\n",
       "        \n",
       "            \n",
       "                var html_a16665f81e66211be0ba431f946d4e25 = $(`&lt;div id=&quot;html_a16665f81e66211be0ba431f946d4e25&quot; style=&quot;width: 100.0%; height: 100.0%;&quot;&gt;&lt;div style=&#x27;font-size: 12px; color: lightblue;&#x27;&gt;&lt;b&gt;Lakewood Park&lt;/b&gt;&lt;br&gt;1.70 mi&lt;/div&gt;&lt;/div&gt;`)[0];\n",
       "                popup_c3552d9327c7660b727d8244e626d96c.setContent(html_a16665f81e66211be0ba431f946d4e25);\n",
       "            \n",
       "        \n",
       "\n",
       "        marker_d87b376a405dc16977c64d5304fcb050.bindPopup(popup_c3552d9327c7660b727d8244e626d96c)\n",
       "        ;\n",
       "\n",
       "        \n",
       "    \n",
       "    \n",
       "            var poly_line_532e03a9822ec44682f3007abe4f6279 = L.polyline(\n",
       "                [[41.48366744091054, -81.76792996833044], [41.499815281213294, -81.71402335033004]],\n",
       "                {&quot;bubblingMouseEvents&quot;: true, &quot;color&quot;: &quot;#3388ff&quot;, &quot;dashArray&quot;: null, &quot;dashOffset&quot;: null, &quot;fill&quot;: false, &quot;fillColor&quot;: &quot;#3388ff&quot;, &quot;fillOpacity&quot;: 0.2, &quot;fillRule&quot;: &quot;evenodd&quot;, &quot;lineCap&quot;: &quot;round&quot;, &quot;lineJoin&quot;: &quot;round&quot;, &quot;noClip&quot;: false, &quot;opacity&quot;: 1.0, &quot;smoothFactor&quot;: 1.0, &quot;stroke&quot;: true, &quot;weight&quot;: 2}\n",
       "            ).addTo(map_698b8ba9bdc96677594afb5706866401);\n",
       "        \n",
       "    \n",
       "            var poly_line_f4003ee5da3dfc840c6f8d09c5d5a037 = L.polyline(\n",
       "                [[41.48366744091054, -81.76792996833044], [41.51078251618141, -81.6965088525839]],\n",
       "                {&quot;bubblingMouseEvents&quot;: true, &quot;color&quot;: &quot;#3388ff&quot;, &quot;dashArray&quot;: null, &quot;dashOffset&quot;: null, &quot;fill&quot;: false, &quot;fillColor&quot;: &quot;#3388ff&quot;, &quot;fillOpacity&quot;: 0.2, &quot;fillRule&quot;: &quot;evenodd&quot;, &quot;lineCap&quot;: &quot;round&quot;, &quot;lineJoin&quot;: &quot;round&quot;, &quot;noClip&quot;: false, &quot;opacity&quot;: 1.0, &quot;smoothFactor&quot;: 1.0, &quot;stroke&quot;: true, &quot;weight&quot;: 2}\n",
       "            ).addTo(map_698b8ba9bdc96677594afb5706866401);\n",
       "        \n",
       "    \n",
       "            var poly_line_c576a38339522809f7eb4fedfdb4532c = L.polyline(\n",
       "                [[41.48366744091054, -81.76792996833044], [41.310403887203094, -81.72745819483838]],\n",
       "                {&quot;bubblingMouseEvents&quot;: true, &quot;color&quot;: &quot;#3388ff&quot;, &quot;dashArray&quot;: null, &quot;dashOffset&quot;: null, &quot;fill&quot;: false, &quot;fillColor&quot;: &quot;#3388ff&quot;, &quot;fillOpacity&quot;: 0.2, &quot;fillRule&quot;: &quot;evenodd&quot;, &quot;lineCap&quot;: &quot;round&quot;, &quot;lineJoin&quot;: &quot;round&quot;, &quot;noClip&quot;: false, &quot;opacity&quot;: 1.0, &quot;smoothFactor&quot;: 1.0, &quot;stroke&quot;: true, &quot;weight&quot;: 2}\n",
       "            ).addTo(map_698b8ba9bdc96677594afb5706866401);\n",
       "        \n",
       "    \n",
       "            var poly_line_2069bd05ff837eac849ba5923056582d = L.polyline(\n",
       "                [[41.48366744091054, -81.76792996833044], [41.48803473001595, -81.9239611312965]],\n",
       "                {&quot;bubblingMouseEvents&quot;: true, &quot;color&quot;: &quot;#3388ff&quot;, &quot;dashArray&quot;: null, &quot;dashOffset&quot;: null, &quot;fill&quot;: false, &quot;fillColor&quot;: &quot;#3388ff&quot;, &quot;fillOpacity&quot;: 0.2, &quot;fillRule&quot;: &quot;evenodd&quot;, &quot;lineCap&quot;: &quot;round&quot;, &quot;lineJoin&quot;: &quot;round&quot;, &quot;noClip&quot;: false, &quot;opacity&quot;: 1.0, &quot;smoothFactor&quot;: 1.0, &quot;stroke&quot;: true, &quot;weight&quot;: 2}\n",
       "            ).addTo(map_698b8ba9bdc96677594afb5706866401);\n",
       "        \n",
       "    \n",
       "            var poly_line_d23df68f128c4580b201f8b68f6fb4b2 = L.polyline(\n",
       "                [[41.48366744091054, -81.76792996833044], [41.496793619480506, -81.79561750008173]],\n",
       "                {&quot;bubblingMouseEvents&quot;: true, &quot;color&quot;: &quot;#3388ff&quot;, &quot;dashArray&quot;: null, &quot;dashOffset&quot;: null, &quot;fill&quot;: false, &quot;fillColor&quot;: &quot;#3388ff&quot;, &quot;fillOpacity&quot;: 0.2, &quot;fillRule&quot;: &quot;evenodd&quot;, &quot;lineCap&quot;: &quot;round&quot;, &quot;lineJoin&quot;: &quot;round&quot;, &quot;noClip&quot;: false, &quot;opacity&quot;: 1.0, &quot;smoothFactor&quot;: 1.0, &quot;stroke&quot;: true, &quot;weight&quot;: 2}\n",
       "            ).addTo(map_698b8ba9bdc96677594afb5706866401);\n",
       "        \n",
       "    \n",
       "            var marker_5fd9e3e1185895297dd8f66ff06d4874 = L.marker(\n",
       "                [41.496793619480506, -81.79561750008173],\n",
       "                {}\n",
       "            ).addTo(map_698b8ba9bdc96677594afb5706866401);\n",
       "        \n",
       "    \n",
       "            var icon_cf403cea970000a41dc0f610eab49186 = L.AwesomeMarkers.icon(\n",
       "                {&quot;extraClasses&quot;: &quot;fa-rotate-0&quot;, &quot;icon&quot;: &quot;star&quot;, &quot;iconColor&quot;: &quot;white&quot;, &quot;markerColor&quot;: &quot;orange&quot;, &quot;prefix&quot;: &quot;glyphicon&quot;}\n",
       "            );\n",
       "            marker_5fd9e3e1185895297dd8f66ff06d4874.setIcon(icon_cf403cea970000a41dc0f610eab49186);\n",
       "        \n",
       "    \n",
       "        var popup_2c04deaaccfea145f301909984716539 = L.popup({&quot;maxWidth&quot;: &quot;100%&quot;});\n",
       "\n",
       "        \n",
       "            \n",
       "                var html_7fb826f92d9b8edfb24a4a22122afb85 = $(`&lt;div id=&quot;html_7fb826f92d9b8edfb24a4a22122afb85&quot; style=&quot;width: 100.0%; height: 100.0%;&quot;&gt;&lt;div style=&#x27;font-size: 12px; color: lightblue;&#x27;&gt;&lt;b&gt;Lakewood Park&lt;/b&gt;&lt;br&gt;1.70 mi&lt;/div&gt;&lt;/div&gt;`)[0];\n",
       "                popup_2c04deaaccfea145f301909984716539.setContent(html_7fb826f92d9b8edfb24a4a22122afb85);\n",
       "            \n",
       "        \n",
       "\n",
       "        marker_5fd9e3e1185895297dd8f66ff06d4874.bindPopup(popup_2c04deaaccfea145f301909984716539)\n",
       "        ;\n",
       "\n",
       "        \n",
       "    \n",
       "&lt;/script&gt;\n",
       "&lt;/html&gt;\" style=\"position:absolute;width:100%;height:100%;left:0;top:0;border:none !important;\" allowfullscreen webkitallowfullscreen mozallowfullscreen></iframe></div></div>"
      ],
      "text/plain": [
       "<folium.folium.Map at 0x1e82a1b4880>"
      ]
     },
     "execution_count": 149,
     "metadata": {},
     "output_type": "execute_result"
    }
   ],
   "source": [
    "# Convert 'Distance' column to a numeric data type so that idxmin() will work\n",
    "df['Distance'] = pd.to_numeric(df['Distance'], errors='coerce')\n",
    "\n",
    "# Use idxmin() on the 'Distance' column to get index of closest court\n",
    "min_index = df['Distance'].idxmin()\n",
    "\n",
    "# Plot over the original marker with a new star marker for the closest court\n",
    "folium.Marker(\n",
    "    df.iloc[min_index,1],\n",
    "    popup = f\"<div style='font-size: 12px; color: lightblue;'><b>{df.iloc[min_index, 0]}</b><br>{df.iloc[min_index,5]:.2f} mi</div>\",\n",
    "    icon=folium.Icon(color=\"orange\", icon=\"star\"),\n",
    "    ).add_to(site_map)\n",
    "\n",
    "# Display map\n",
    "site_map"
   ]
  },
  {
   "cell_type": "markdown",
   "id": "238136f5",
   "metadata": {},
   "source": [
    "Resulting ouput will look like this:\n",
    "<img src=\"Cleveland_Volleyball_Location_Finder_Resulting_Map.jpg\" style = \"width:380px; height:324\" title=\"Resulting ouput will look like this:\">"
   ]
  },
  {
   "cell_type": "code",
   "execution_count": 134,
   "id": "80d1ffd7",
   "metadata": {},
   "outputs": [
    {
     "data": {
      "text/plain": [
       "'C:\\\\Users\\\\josep\\\\Cleveland Volleyball Locations'"
      ]
     },
     "execution_count": 134,
     "metadata": {},
     "output_type": "execute_result"
    }
   ],
   "source": [
    "# How to insert image to jupyter notebook: https://www.youtube.com/watch?v=1p0KfGTfsmI"
   ]
  }
 ],
 "metadata": {
  "kernelspec": {
   "display_name": "Python 3 (ipykernel)",
   "language": "python",
   "name": "python3"
  },
  "language_info": {
   "codemirror_mode": {
    "name": "ipython",
    "version": 3
   },
   "file_extension": ".py",
   "mimetype": "text/x-python",
   "name": "python",
   "nbconvert_exporter": "python",
   "pygments_lexer": "ipython3",
   "version": "3.10.10"
  }
 },
 "nbformat": 4,
 "nbformat_minor": 5
}
